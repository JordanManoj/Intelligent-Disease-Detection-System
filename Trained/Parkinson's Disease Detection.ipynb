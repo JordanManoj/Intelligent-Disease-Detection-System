{
 "cells": [
  {
   "cell_type": "code",
   "execution_count": 1,
   "metadata": {},
   "outputs": [],
   "source": [
    "import numpy as np\n",
    "import pandas as pd\n",
    "import matplotlib.pyplot as plt\n",
    "import seaborn as sns\n",
    "from sklearn.model_selection import train_test_split\n",
    "from sklearn.preprocessing import StandardScaler\n",
    "from sklearn import svm\n",
    "from sklearn.linear_model import LogisticRegression\n",
    "from xgboost import XGBRegressor\n",
    "from sklearn.tree import DecisionTreeClassifier\n",
    "from sklearn import metrics\n",
    "from sklearn.metrics import accuracy_score, classification_report, confusion_matrix, mean_absolute_error, mean_squared_error, median_absolute_error"
   ]
  },
  {
   "cell_type": "code",
   "execution_count": 2,
   "metadata": {},
   "outputs": [],
   "source": [
    "data = pd.read_csv(\"parkinsons.csv\")"
   ]
  },
  {
   "cell_type": "code",
   "execution_count": 3,
   "metadata": {},
   "outputs": [
    {
     "data": {
      "text/html": [
       "<div>\n",
       "<style scoped>\n",
       "    .dataframe tbody tr th:only-of-type {\n",
       "        vertical-align: middle;\n",
       "    }\n",
       "\n",
       "    .dataframe tbody tr th {\n",
       "        vertical-align: top;\n",
       "    }\n",
       "\n",
       "    .dataframe thead th {\n",
       "        text-align: right;\n",
       "    }\n",
       "</style>\n",
       "<table border=\"1\" class=\"dataframe\">\n",
       "  <thead>\n",
       "    <tr style=\"text-align: right;\">\n",
       "      <th></th>\n",
       "      <th>name</th>\n",
       "      <th>MDVP:Fo(Hz)</th>\n",
       "      <th>MDVP:Fhi(Hz)</th>\n",
       "      <th>MDVP:Flo(Hz)</th>\n",
       "      <th>MDVP:Jitter(%)</th>\n",
       "      <th>MDVP:Jitter(Abs)</th>\n",
       "      <th>MDVP:RAP</th>\n",
       "      <th>MDVP:PPQ</th>\n",
       "      <th>Jitter:DDP</th>\n",
       "      <th>MDVP:Shimmer</th>\n",
       "      <th>...</th>\n",
       "      <th>Shimmer:DDA</th>\n",
       "      <th>NHR</th>\n",
       "      <th>HNR</th>\n",
       "      <th>status</th>\n",
       "      <th>RPDE</th>\n",
       "      <th>DFA</th>\n",
       "      <th>spread1</th>\n",
       "      <th>spread2</th>\n",
       "      <th>D2</th>\n",
       "      <th>PPE</th>\n",
       "    </tr>\n",
       "  </thead>\n",
       "  <tbody>\n",
       "    <tr>\n",
       "      <th>0</th>\n",
       "      <td>phon_R01_S01_1</td>\n",
       "      <td>119.992</td>\n",
       "      <td>157.302</td>\n",
       "      <td>74.997</td>\n",
       "      <td>0.00784</td>\n",
       "      <td>0.00007</td>\n",
       "      <td>0.00370</td>\n",
       "      <td>0.00554</td>\n",
       "      <td>0.01109</td>\n",
       "      <td>0.04374</td>\n",
       "      <td>...</td>\n",
       "      <td>0.06545</td>\n",
       "      <td>0.02211</td>\n",
       "      <td>21.033</td>\n",
       "      <td>1</td>\n",
       "      <td>0.414783</td>\n",
       "      <td>0.815285</td>\n",
       "      <td>-4.813031</td>\n",
       "      <td>0.266482</td>\n",
       "      <td>2.301442</td>\n",
       "      <td>0.284654</td>\n",
       "    </tr>\n",
       "    <tr>\n",
       "      <th>1</th>\n",
       "      <td>phon_R01_S01_2</td>\n",
       "      <td>122.400</td>\n",
       "      <td>148.650</td>\n",
       "      <td>113.819</td>\n",
       "      <td>0.00968</td>\n",
       "      <td>0.00008</td>\n",
       "      <td>0.00465</td>\n",
       "      <td>0.00696</td>\n",
       "      <td>0.01394</td>\n",
       "      <td>0.06134</td>\n",
       "      <td>...</td>\n",
       "      <td>0.09403</td>\n",
       "      <td>0.01929</td>\n",
       "      <td>19.085</td>\n",
       "      <td>1</td>\n",
       "      <td>0.458359</td>\n",
       "      <td>0.819521</td>\n",
       "      <td>-4.075192</td>\n",
       "      <td>0.335590</td>\n",
       "      <td>2.486855</td>\n",
       "      <td>0.368674</td>\n",
       "    </tr>\n",
       "    <tr>\n",
       "      <th>2</th>\n",
       "      <td>phon_R01_S01_3</td>\n",
       "      <td>116.682</td>\n",
       "      <td>131.111</td>\n",
       "      <td>111.555</td>\n",
       "      <td>0.01050</td>\n",
       "      <td>0.00009</td>\n",
       "      <td>0.00544</td>\n",
       "      <td>0.00781</td>\n",
       "      <td>0.01633</td>\n",
       "      <td>0.05233</td>\n",
       "      <td>...</td>\n",
       "      <td>0.08270</td>\n",
       "      <td>0.01309</td>\n",
       "      <td>20.651</td>\n",
       "      <td>1</td>\n",
       "      <td>0.429895</td>\n",
       "      <td>0.825288</td>\n",
       "      <td>-4.443179</td>\n",
       "      <td>0.311173</td>\n",
       "      <td>2.342259</td>\n",
       "      <td>0.332634</td>\n",
       "    </tr>\n",
       "    <tr>\n",
       "      <th>3</th>\n",
       "      <td>phon_R01_S01_4</td>\n",
       "      <td>116.676</td>\n",
       "      <td>137.871</td>\n",
       "      <td>111.366</td>\n",
       "      <td>0.00997</td>\n",
       "      <td>0.00009</td>\n",
       "      <td>0.00502</td>\n",
       "      <td>0.00698</td>\n",
       "      <td>0.01505</td>\n",
       "      <td>0.05492</td>\n",
       "      <td>...</td>\n",
       "      <td>0.08771</td>\n",
       "      <td>0.01353</td>\n",
       "      <td>20.644</td>\n",
       "      <td>1</td>\n",
       "      <td>0.434969</td>\n",
       "      <td>0.819235</td>\n",
       "      <td>-4.117501</td>\n",
       "      <td>0.334147</td>\n",
       "      <td>2.405554</td>\n",
       "      <td>0.368975</td>\n",
       "    </tr>\n",
       "    <tr>\n",
       "      <th>4</th>\n",
       "      <td>phon_R01_S01_5</td>\n",
       "      <td>116.014</td>\n",
       "      <td>141.781</td>\n",
       "      <td>110.655</td>\n",
       "      <td>0.01284</td>\n",
       "      <td>0.00011</td>\n",
       "      <td>0.00655</td>\n",
       "      <td>0.00908</td>\n",
       "      <td>0.01966</td>\n",
       "      <td>0.06425</td>\n",
       "      <td>...</td>\n",
       "      <td>0.10470</td>\n",
       "      <td>0.01767</td>\n",
       "      <td>19.649</td>\n",
       "      <td>1</td>\n",
       "      <td>0.417356</td>\n",
       "      <td>0.823484</td>\n",
       "      <td>-3.747787</td>\n",
       "      <td>0.234513</td>\n",
       "      <td>2.332180</td>\n",
       "      <td>0.410335</td>\n",
       "    </tr>\n",
       "  </tbody>\n",
       "</table>\n",
       "<p>5 rows × 24 columns</p>\n",
       "</div>"
      ],
      "text/plain": [
       "             name  MDVP:Fo(Hz)  MDVP:Fhi(Hz)  MDVP:Flo(Hz)  MDVP:Jitter(%)  \\\n",
       "0  phon_R01_S01_1      119.992       157.302        74.997         0.00784   \n",
       "1  phon_R01_S01_2      122.400       148.650       113.819         0.00968   \n",
       "2  phon_R01_S01_3      116.682       131.111       111.555         0.01050   \n",
       "3  phon_R01_S01_4      116.676       137.871       111.366         0.00997   \n",
       "4  phon_R01_S01_5      116.014       141.781       110.655         0.01284   \n",
       "\n",
       "   MDVP:Jitter(Abs)  MDVP:RAP  MDVP:PPQ  Jitter:DDP  MDVP:Shimmer  ...  \\\n",
       "0           0.00007   0.00370   0.00554     0.01109       0.04374  ...   \n",
       "1           0.00008   0.00465   0.00696     0.01394       0.06134  ...   \n",
       "2           0.00009   0.00544   0.00781     0.01633       0.05233  ...   \n",
       "3           0.00009   0.00502   0.00698     0.01505       0.05492  ...   \n",
       "4           0.00011   0.00655   0.00908     0.01966       0.06425  ...   \n",
       "\n",
       "   Shimmer:DDA      NHR     HNR  status      RPDE       DFA   spread1  \\\n",
       "0      0.06545  0.02211  21.033       1  0.414783  0.815285 -4.813031   \n",
       "1      0.09403  0.01929  19.085       1  0.458359  0.819521 -4.075192   \n",
       "2      0.08270  0.01309  20.651       1  0.429895  0.825288 -4.443179   \n",
       "3      0.08771  0.01353  20.644       1  0.434969  0.819235 -4.117501   \n",
       "4      0.10470  0.01767  19.649       1  0.417356  0.823484 -3.747787   \n",
       "\n",
       "    spread2        D2       PPE  \n",
       "0  0.266482  2.301442  0.284654  \n",
       "1  0.335590  2.486855  0.368674  \n",
       "2  0.311173  2.342259  0.332634  \n",
       "3  0.334147  2.405554  0.368975  \n",
       "4  0.234513  2.332180  0.410335  \n",
       "\n",
       "[5 rows x 24 columns]"
      ]
     },
     "execution_count": 3,
     "metadata": {},
     "output_type": "execute_result"
    }
   ],
   "source": [
    "data.head()"
   ]
  },
  {
   "cell_type": "code",
   "execution_count": 4,
   "metadata": {},
   "outputs": [
    {
     "data": {
      "text/plain": [
       "(195, 24)"
      ]
     },
     "execution_count": 4,
     "metadata": {},
     "output_type": "execute_result"
    }
   ],
   "source": [
    "data.shape"
   ]
  },
  {
   "cell_type": "code",
   "execution_count": 5,
   "metadata": {},
   "outputs": [
    {
     "name": "stdout",
     "output_type": "stream",
     "text": [
      "<class 'pandas.core.frame.DataFrame'>\n",
      "RangeIndex: 195 entries, 0 to 194\n",
      "Data columns (total 24 columns):\n",
      " #   Column            Non-Null Count  Dtype  \n",
      "---  ------            --------------  -----  \n",
      " 0   name              195 non-null    object \n",
      " 1   MDVP:Fo(Hz)       195 non-null    float64\n",
      " 2   MDVP:Fhi(Hz)      195 non-null    float64\n",
      " 3   MDVP:Flo(Hz)      195 non-null    float64\n",
      " 4   MDVP:Jitter(%)    195 non-null    float64\n",
      " 5   MDVP:Jitter(Abs)  195 non-null    float64\n",
      " 6   MDVP:RAP          195 non-null    float64\n",
      " 7   MDVP:PPQ          195 non-null    float64\n",
      " 8   Jitter:DDP        195 non-null    float64\n",
      " 9   MDVP:Shimmer      195 non-null    float64\n",
      " 10  MDVP:Shimmer(dB)  195 non-null    float64\n",
      " 11  Shimmer:APQ3      195 non-null    float64\n",
      " 12  Shimmer:APQ5      195 non-null    float64\n",
      " 13  MDVP:APQ          195 non-null    float64\n",
      " 14  Shimmer:DDA       195 non-null    float64\n",
      " 15  NHR               195 non-null    float64\n",
      " 16  HNR               195 non-null    float64\n",
      " 17  status            195 non-null    int64  \n",
      " 18  RPDE              195 non-null    float64\n",
      " 19  DFA               195 non-null    float64\n",
      " 20  spread1           195 non-null    float64\n",
      " 21  spread2           195 non-null    float64\n",
      " 22  D2                195 non-null    float64\n",
      " 23  PPE               195 non-null    float64\n",
      "dtypes: float64(22), int64(1), object(1)\n",
      "memory usage: 36.7+ KB\n"
     ]
    }
   ],
   "source": [
    "data.info()"
   ]
  },
  {
   "cell_type": "code",
   "execution_count": 6,
   "metadata": {},
   "outputs": [
    {
     "data": {
      "text/plain": [
       "name                0\n",
       "MDVP:Fo(Hz)         0\n",
       "MDVP:Fhi(Hz)        0\n",
       "MDVP:Flo(Hz)        0\n",
       "MDVP:Jitter(%)      0\n",
       "MDVP:Jitter(Abs)    0\n",
       "MDVP:RAP            0\n",
       "MDVP:PPQ            0\n",
       "Jitter:DDP          0\n",
       "MDVP:Shimmer        0\n",
       "MDVP:Shimmer(dB)    0\n",
       "Shimmer:APQ3        0\n",
       "Shimmer:APQ5        0\n",
       "MDVP:APQ            0\n",
       "Shimmer:DDA         0\n",
       "NHR                 0\n",
       "HNR                 0\n",
       "status              0\n",
       "RPDE                0\n",
       "DFA                 0\n",
       "spread1             0\n",
       "spread2             0\n",
       "D2                  0\n",
       "PPE                 0\n",
       "dtype: int64"
      ]
     },
     "execution_count": 6,
     "metadata": {},
     "output_type": "execute_result"
    }
   ],
   "source": [
    "data.isnull().sum()"
   ]
  },
  {
   "cell_type": "code",
   "execution_count": 7,
   "metadata": {},
   "outputs": [
    {
     "data": {
      "text/html": [
       "<div>\n",
       "<style scoped>\n",
       "    .dataframe tbody tr th:only-of-type {\n",
       "        vertical-align: middle;\n",
       "    }\n",
       "\n",
       "    .dataframe tbody tr th {\n",
       "        vertical-align: top;\n",
       "    }\n",
       "\n",
       "    .dataframe thead th {\n",
       "        text-align: right;\n",
       "    }\n",
       "</style>\n",
       "<table border=\"1\" class=\"dataframe\">\n",
       "  <thead>\n",
       "    <tr style=\"text-align: right;\">\n",
       "      <th></th>\n",
       "      <th>MDVP:Fo(Hz)</th>\n",
       "      <th>MDVP:Fhi(Hz)</th>\n",
       "      <th>MDVP:Flo(Hz)</th>\n",
       "      <th>MDVP:Jitter(%)</th>\n",
       "      <th>MDVP:Jitter(Abs)</th>\n",
       "      <th>MDVP:RAP</th>\n",
       "      <th>MDVP:PPQ</th>\n",
       "      <th>Jitter:DDP</th>\n",
       "      <th>MDVP:Shimmer</th>\n",
       "      <th>MDVP:Shimmer(dB)</th>\n",
       "      <th>...</th>\n",
       "      <th>Shimmer:DDA</th>\n",
       "      <th>NHR</th>\n",
       "      <th>HNR</th>\n",
       "      <th>status</th>\n",
       "      <th>RPDE</th>\n",
       "      <th>DFA</th>\n",
       "      <th>spread1</th>\n",
       "      <th>spread2</th>\n",
       "      <th>D2</th>\n",
       "      <th>PPE</th>\n",
       "    </tr>\n",
       "  </thead>\n",
       "  <tbody>\n",
       "    <tr>\n",
       "      <th>count</th>\n",
       "      <td>195.000000</td>\n",
       "      <td>195.000000</td>\n",
       "      <td>195.000000</td>\n",
       "      <td>195.000000</td>\n",
       "      <td>195.000000</td>\n",
       "      <td>195.000000</td>\n",
       "      <td>195.000000</td>\n",
       "      <td>195.000000</td>\n",
       "      <td>195.000000</td>\n",
       "      <td>195.000000</td>\n",
       "      <td>...</td>\n",
       "      <td>195.000000</td>\n",
       "      <td>195.000000</td>\n",
       "      <td>195.000000</td>\n",
       "      <td>195.000000</td>\n",
       "      <td>195.000000</td>\n",
       "      <td>195.000000</td>\n",
       "      <td>195.000000</td>\n",
       "      <td>195.000000</td>\n",
       "      <td>195.000000</td>\n",
       "      <td>195.000000</td>\n",
       "    </tr>\n",
       "    <tr>\n",
       "      <th>mean</th>\n",
       "      <td>154.228641</td>\n",
       "      <td>197.104918</td>\n",
       "      <td>116.324631</td>\n",
       "      <td>0.006220</td>\n",
       "      <td>0.000044</td>\n",
       "      <td>0.003306</td>\n",
       "      <td>0.003446</td>\n",
       "      <td>0.009920</td>\n",
       "      <td>0.029709</td>\n",
       "      <td>0.282251</td>\n",
       "      <td>...</td>\n",
       "      <td>0.046993</td>\n",
       "      <td>0.024847</td>\n",
       "      <td>21.885974</td>\n",
       "      <td>0.753846</td>\n",
       "      <td>0.498536</td>\n",
       "      <td>0.718099</td>\n",
       "      <td>-5.684397</td>\n",
       "      <td>0.226510</td>\n",
       "      <td>2.381826</td>\n",
       "      <td>0.206552</td>\n",
       "    </tr>\n",
       "    <tr>\n",
       "      <th>std</th>\n",
       "      <td>41.390065</td>\n",
       "      <td>91.491548</td>\n",
       "      <td>43.521413</td>\n",
       "      <td>0.004848</td>\n",
       "      <td>0.000035</td>\n",
       "      <td>0.002968</td>\n",
       "      <td>0.002759</td>\n",
       "      <td>0.008903</td>\n",
       "      <td>0.018857</td>\n",
       "      <td>0.194877</td>\n",
       "      <td>...</td>\n",
       "      <td>0.030459</td>\n",
       "      <td>0.040418</td>\n",
       "      <td>4.425764</td>\n",
       "      <td>0.431878</td>\n",
       "      <td>0.103942</td>\n",
       "      <td>0.055336</td>\n",
       "      <td>1.090208</td>\n",
       "      <td>0.083406</td>\n",
       "      <td>0.382799</td>\n",
       "      <td>0.090119</td>\n",
       "    </tr>\n",
       "    <tr>\n",
       "      <th>min</th>\n",
       "      <td>88.333000</td>\n",
       "      <td>102.145000</td>\n",
       "      <td>65.476000</td>\n",
       "      <td>0.001680</td>\n",
       "      <td>0.000007</td>\n",
       "      <td>0.000680</td>\n",
       "      <td>0.000920</td>\n",
       "      <td>0.002040</td>\n",
       "      <td>0.009540</td>\n",
       "      <td>0.085000</td>\n",
       "      <td>...</td>\n",
       "      <td>0.013640</td>\n",
       "      <td>0.000650</td>\n",
       "      <td>8.441000</td>\n",
       "      <td>0.000000</td>\n",
       "      <td>0.256570</td>\n",
       "      <td>0.574282</td>\n",
       "      <td>-7.964984</td>\n",
       "      <td>0.006274</td>\n",
       "      <td>1.423287</td>\n",
       "      <td>0.044539</td>\n",
       "    </tr>\n",
       "    <tr>\n",
       "      <th>25%</th>\n",
       "      <td>117.572000</td>\n",
       "      <td>134.862500</td>\n",
       "      <td>84.291000</td>\n",
       "      <td>0.003460</td>\n",
       "      <td>0.000020</td>\n",
       "      <td>0.001660</td>\n",
       "      <td>0.001860</td>\n",
       "      <td>0.004985</td>\n",
       "      <td>0.016505</td>\n",
       "      <td>0.148500</td>\n",
       "      <td>...</td>\n",
       "      <td>0.024735</td>\n",
       "      <td>0.005925</td>\n",
       "      <td>19.198000</td>\n",
       "      <td>1.000000</td>\n",
       "      <td>0.421306</td>\n",
       "      <td>0.674758</td>\n",
       "      <td>-6.450096</td>\n",
       "      <td>0.174351</td>\n",
       "      <td>2.099125</td>\n",
       "      <td>0.137451</td>\n",
       "    </tr>\n",
       "    <tr>\n",
       "      <th>50%</th>\n",
       "      <td>148.790000</td>\n",
       "      <td>175.829000</td>\n",
       "      <td>104.315000</td>\n",
       "      <td>0.004940</td>\n",
       "      <td>0.000030</td>\n",
       "      <td>0.002500</td>\n",
       "      <td>0.002690</td>\n",
       "      <td>0.007490</td>\n",
       "      <td>0.022970</td>\n",
       "      <td>0.221000</td>\n",
       "      <td>...</td>\n",
       "      <td>0.038360</td>\n",
       "      <td>0.011660</td>\n",
       "      <td>22.085000</td>\n",
       "      <td>1.000000</td>\n",
       "      <td>0.495954</td>\n",
       "      <td>0.722254</td>\n",
       "      <td>-5.720868</td>\n",
       "      <td>0.218885</td>\n",
       "      <td>2.361532</td>\n",
       "      <td>0.194052</td>\n",
       "    </tr>\n",
       "    <tr>\n",
       "      <th>75%</th>\n",
       "      <td>182.769000</td>\n",
       "      <td>224.205500</td>\n",
       "      <td>140.018500</td>\n",
       "      <td>0.007365</td>\n",
       "      <td>0.000060</td>\n",
       "      <td>0.003835</td>\n",
       "      <td>0.003955</td>\n",
       "      <td>0.011505</td>\n",
       "      <td>0.037885</td>\n",
       "      <td>0.350000</td>\n",
       "      <td>...</td>\n",
       "      <td>0.060795</td>\n",
       "      <td>0.025640</td>\n",
       "      <td>25.075500</td>\n",
       "      <td>1.000000</td>\n",
       "      <td>0.587562</td>\n",
       "      <td>0.761881</td>\n",
       "      <td>-5.046192</td>\n",
       "      <td>0.279234</td>\n",
       "      <td>2.636456</td>\n",
       "      <td>0.252980</td>\n",
       "    </tr>\n",
       "    <tr>\n",
       "      <th>max</th>\n",
       "      <td>260.105000</td>\n",
       "      <td>592.030000</td>\n",
       "      <td>239.170000</td>\n",
       "      <td>0.033160</td>\n",
       "      <td>0.000260</td>\n",
       "      <td>0.021440</td>\n",
       "      <td>0.019580</td>\n",
       "      <td>0.064330</td>\n",
       "      <td>0.119080</td>\n",
       "      <td>1.302000</td>\n",
       "      <td>...</td>\n",
       "      <td>0.169420</td>\n",
       "      <td>0.314820</td>\n",
       "      <td>33.047000</td>\n",
       "      <td>1.000000</td>\n",
       "      <td>0.685151</td>\n",
       "      <td>0.825288</td>\n",
       "      <td>-2.434031</td>\n",
       "      <td>0.450493</td>\n",
       "      <td>3.671155</td>\n",
       "      <td>0.527367</td>\n",
       "    </tr>\n",
       "  </tbody>\n",
       "</table>\n",
       "<p>8 rows × 23 columns</p>\n",
       "</div>"
      ],
      "text/plain": [
       "       MDVP:Fo(Hz)  MDVP:Fhi(Hz)  MDVP:Flo(Hz)  MDVP:Jitter(%)  \\\n",
       "count   195.000000    195.000000    195.000000      195.000000   \n",
       "mean    154.228641    197.104918    116.324631        0.006220   \n",
       "std      41.390065     91.491548     43.521413        0.004848   \n",
       "min      88.333000    102.145000     65.476000        0.001680   \n",
       "25%     117.572000    134.862500     84.291000        0.003460   \n",
       "50%     148.790000    175.829000    104.315000        0.004940   \n",
       "75%     182.769000    224.205500    140.018500        0.007365   \n",
       "max     260.105000    592.030000    239.170000        0.033160   \n",
       "\n",
       "       MDVP:Jitter(Abs)    MDVP:RAP    MDVP:PPQ  Jitter:DDP  MDVP:Shimmer  \\\n",
       "count        195.000000  195.000000  195.000000  195.000000    195.000000   \n",
       "mean           0.000044    0.003306    0.003446    0.009920      0.029709   \n",
       "std            0.000035    0.002968    0.002759    0.008903      0.018857   \n",
       "min            0.000007    0.000680    0.000920    0.002040      0.009540   \n",
       "25%            0.000020    0.001660    0.001860    0.004985      0.016505   \n",
       "50%            0.000030    0.002500    0.002690    0.007490      0.022970   \n",
       "75%            0.000060    0.003835    0.003955    0.011505      0.037885   \n",
       "max            0.000260    0.021440    0.019580    0.064330      0.119080   \n",
       "\n",
       "       MDVP:Shimmer(dB)  ...  Shimmer:DDA         NHR         HNR      status  \\\n",
       "count        195.000000  ...   195.000000  195.000000  195.000000  195.000000   \n",
       "mean           0.282251  ...     0.046993    0.024847   21.885974    0.753846   \n",
       "std            0.194877  ...     0.030459    0.040418    4.425764    0.431878   \n",
       "min            0.085000  ...     0.013640    0.000650    8.441000    0.000000   \n",
       "25%            0.148500  ...     0.024735    0.005925   19.198000    1.000000   \n",
       "50%            0.221000  ...     0.038360    0.011660   22.085000    1.000000   \n",
       "75%            0.350000  ...     0.060795    0.025640   25.075500    1.000000   \n",
       "max            1.302000  ...     0.169420    0.314820   33.047000    1.000000   \n",
       "\n",
       "             RPDE         DFA     spread1     spread2          D2         PPE  \n",
       "count  195.000000  195.000000  195.000000  195.000000  195.000000  195.000000  \n",
       "mean     0.498536    0.718099   -5.684397    0.226510    2.381826    0.206552  \n",
       "std      0.103942    0.055336    1.090208    0.083406    0.382799    0.090119  \n",
       "min      0.256570    0.574282   -7.964984    0.006274    1.423287    0.044539  \n",
       "25%      0.421306    0.674758   -6.450096    0.174351    2.099125    0.137451  \n",
       "50%      0.495954    0.722254   -5.720868    0.218885    2.361532    0.194052  \n",
       "75%      0.587562    0.761881   -5.046192    0.279234    2.636456    0.252980  \n",
       "max      0.685151    0.825288   -2.434031    0.450493    3.671155    0.527367  \n",
       "\n",
       "[8 rows x 23 columns]"
      ]
     },
     "execution_count": 7,
     "metadata": {},
     "output_type": "execute_result"
    }
   ],
   "source": [
    "data.describe()"
   ]
  },
  {
   "cell_type": "code",
   "execution_count": 8,
   "metadata": {},
   "outputs": [
    {
     "data": {
      "text/plain": [
       "1    147\n",
       "0     48\n",
       "Name: status, dtype: int64"
      ]
     },
     "execution_count": 8,
     "metadata": {},
     "output_type": "execute_result"
    }
   ],
   "source": [
    "data[\"status\"].value_counts()"
   ]
  },
  {
   "cell_type": "code",
   "execution_count": 9,
   "metadata": {},
   "outputs": [
    {
     "data": {
      "text/plain": [
       "<AxesSubplot: xlabel='status', ylabel='count'>"
      ]
     },
     "execution_count": 9,
     "metadata": {},
     "output_type": "execute_result"
    },
    {
     "data": {
      "image/png": "[encoded data removed]",
      "text/plain": [
       "<Figure size 432x288 with 1 Axes>"
      ]
     },
     "metadata": {
      "needs_background": "light"
     },
     "output_type": "display_data"
    }
   ],
   "source": [
    "sns.countplot(x = \"status\", data = data)"
   ]
  },
  {
   "cell_type": "code",
   "execution_count": 10,
   "metadata": {},
   "outputs": [
    {
     "data": {
      "text/plain": [
       "<seaborn.axisgrid.FacetGrid at 0x1abcc626cd0>"
      ]
     },
     "execution_count": 10,
     "metadata": {},
     "output_type": "execute_result"
    },
    {
     "data": {
      "image/png": "[encoded data removed]",
      "text/plain": [
       "<Figure size 360x360 with 1 Axes>"
      ]
     },
     "metadata": {
      "needs_background": "light"
     },
     "output_type": "display_data"
    }
   ],
   "source": [
    "sns.catplot(x = \"status\", y = \"MDVP:Fo(Hz)\", data = data)"
   ]
  },
  {
   "cell_type": "code",
   "execution_count": 11,
   "metadata": {},
   "outputs": [
    {
     "data": {
      "text/plain": [
       "<seaborn.axisgrid.FacetGrid at 0x1abcc727580>"
      ]
     },
     "execution_count": 11,
     "metadata": {},
     "output_type": "execute_result"
    },
    {
     "data": {
      "image/png": "[encoded data removed]",
      "text/plain": [
       "<Figure size 360x360 with 1 Axes>"
      ]
     },
     "metadata": {
      "needs_background": "light"
     },
     "output_type": "display_data"
    }
   ],
   "source": [
    "sns.catplot(x = \"status\", y = \"MDVP:Fhi(Hz)\", data = data)"
   ]
  },
  {
   "cell_type": "code",
   "execution_count": 12,
   "metadata": {},
   "outputs": [
    {
     "data": {
      "text/html": [
       "<div>\n",
       "<style scoped>\n",
       "    .dataframe tbody tr th:only-of-type {\n",
       "        vertical-align: middle;\n",
       "    }\n",
       "\n",
       "    .dataframe tbody tr th {\n",
       "        vertical-align: top;\n",
       "    }\n",
       "\n",
       "    .dataframe thead th {\n",
       "        text-align: right;\n",
       "    }\n",
       "</style>\n",
       "<table border=\"1\" class=\"dataframe\">\n",
       "  <thead>\n",
       "    <tr style=\"text-align: right;\">\n",
       "      <th></th>\n",
       "      <th>MDVP:Fo(Hz)</th>\n",
       "      <th>MDVP:Fhi(Hz)</th>\n",
       "      <th>MDVP:Flo(Hz)</th>\n",
       "      <th>MDVP:Jitter(%)</th>\n",
       "      <th>MDVP:Jitter(Abs)</th>\n",
       "      <th>MDVP:RAP</th>\n",
       "      <th>MDVP:PPQ</th>\n",
       "      <th>Jitter:DDP</th>\n",
       "      <th>MDVP:Shimmer</th>\n",
       "      <th>MDVP:Shimmer(dB)</th>\n",
       "      <th>...</th>\n",
       "      <th>MDVP:APQ</th>\n",
       "      <th>Shimmer:DDA</th>\n",
       "      <th>NHR</th>\n",
       "      <th>HNR</th>\n",
       "      <th>RPDE</th>\n",
       "      <th>DFA</th>\n",
       "      <th>spread1</th>\n",
       "      <th>spread2</th>\n",
       "      <th>D2</th>\n",
       "      <th>PPE</th>\n",
       "    </tr>\n",
       "    <tr>\n",
       "      <th>status</th>\n",
       "      <th></th>\n",
       "      <th></th>\n",
       "      <th></th>\n",
       "      <th></th>\n",
       "      <th></th>\n",
       "      <th></th>\n",
       "      <th></th>\n",
       "      <th></th>\n",
       "      <th></th>\n",
       "      <th></th>\n",
       "      <th></th>\n",
       "      <th></th>\n",
       "      <th></th>\n",
       "      <th></th>\n",
       "      <th></th>\n",
       "      <th></th>\n",
       "      <th></th>\n",
       "      <th></th>\n",
       "      <th></th>\n",
       "      <th></th>\n",
       "      <th></th>\n",
       "    </tr>\n",
       "  </thead>\n",
       "  <tbody>\n",
       "    <tr>\n",
       "      <th>0</th>\n",
       "      <td>181.937771</td>\n",
       "      <td>223.636750</td>\n",
       "      <td>145.207292</td>\n",
       "      <td>0.003866</td>\n",
       "      <td>0.000023</td>\n",
       "      <td>0.001925</td>\n",
       "      <td>0.002056</td>\n",
       "      <td>0.005776</td>\n",
       "      <td>0.017615</td>\n",
       "      <td>0.162958</td>\n",
       "      <td>...</td>\n",
       "      <td>0.013305</td>\n",
       "      <td>0.028511</td>\n",
       "      <td>0.011483</td>\n",
       "      <td>24.678750</td>\n",
       "      <td>0.442552</td>\n",
       "      <td>0.695716</td>\n",
       "      <td>-6.759264</td>\n",
       "      <td>0.160292</td>\n",
       "      <td>2.154491</td>\n",
       "      <td>0.123017</td>\n",
       "    </tr>\n",
       "    <tr>\n",
       "      <th>1</th>\n",
       "      <td>145.180762</td>\n",
       "      <td>188.441463</td>\n",
       "      <td>106.893558</td>\n",
       "      <td>0.006989</td>\n",
       "      <td>0.000051</td>\n",
       "      <td>0.003757</td>\n",
       "      <td>0.003900</td>\n",
       "      <td>0.011273</td>\n",
       "      <td>0.033658</td>\n",
       "      <td>0.321204</td>\n",
       "      <td>...</td>\n",
       "      <td>0.027600</td>\n",
       "      <td>0.053027</td>\n",
       "      <td>0.029211</td>\n",
       "      <td>20.974048</td>\n",
       "      <td>0.516816</td>\n",
       "      <td>0.725408</td>\n",
       "      <td>-5.333420</td>\n",
       "      <td>0.248133</td>\n",
       "      <td>2.456058</td>\n",
       "      <td>0.233828</td>\n",
       "    </tr>\n",
       "  </tbody>\n",
       "</table>\n",
       "<p>2 rows × 22 columns</p>\n",
       "</div>"
      ],
      "text/plain": [
       "        MDVP:Fo(Hz)  MDVP:Fhi(Hz)  MDVP:Flo(Hz)  MDVP:Jitter(%)  \\\n",
       "status                                                            \n",
       "0        181.937771    223.636750    145.207292        0.003866   \n",
       "1        145.180762    188.441463    106.893558        0.006989   \n",
       "\n",
       "        MDVP:Jitter(Abs)  MDVP:RAP  MDVP:PPQ  Jitter:DDP  MDVP:Shimmer  \\\n",
       "status                                                                   \n",
       "0               0.000023  0.001925  0.002056    0.005776      0.017615   \n",
       "1               0.000051  0.003757  0.003900    0.011273      0.033658   \n",
       "\n",
       "        MDVP:Shimmer(dB)  ...  MDVP:APQ  Shimmer:DDA       NHR        HNR  \\\n",
       "status                    ...                                               \n",
       "0               0.162958  ...  0.013305     0.028511  0.011483  24.678750   \n",
       "1               0.321204  ...  0.027600     0.053027  0.029211  20.974048   \n",
       "\n",
       "            RPDE       DFA   spread1   spread2        D2       PPE  \n",
       "status                                                              \n",
       "0       0.442552  0.695716 -6.759264  0.160292  2.154491  0.123017  \n",
       "1       0.516816  0.725408 -5.333420  0.248133  2.456058  0.233828  \n",
       "\n",
       "[2 rows x 22 columns]"
      ]
     },
     "execution_count": 12,
     "metadata": {},
     "output_type": "execute_result"
    }
   ],
   "source": [
    "data.groupby(\"status\").mean()"
   ]
  },
  {
   "cell_type": "code",
   "execution_count": 13,
   "metadata": {},
   "outputs": [],
   "source": [
    "x = data.drop(columns = [\"name\",\"status\"], axis = 1)\n",
    "y = data[\"status\"]"
   ]
  },
  {
   "cell_type": "code",
   "execution_count": 14,
   "metadata": {},
   "outputs": [
    {
     "name": "stdout",
     "output_type": "stream",
     "text": [
      "     MDVP:Fo(Hz)  MDVP:Fhi(Hz)  MDVP:Flo(Hz)  MDVP:Jitter(%)  \\\n",
      "0        119.992       157.302        74.997         0.00784   \n",
      "1        122.400       148.650       113.819         0.00968   \n",
      "2        116.682       131.111       111.555         0.01050   \n",
      "3        116.676       137.871       111.366         0.00997   \n",
      "4        116.014       141.781       110.655         0.01284   \n",
      "..           ...           ...           ...             ...   \n",
      "190      174.188       230.978        94.261         0.00459   \n",
      "191      209.516       253.017        89.488         0.00564   \n",
      "192      174.688       240.005        74.287         0.01360   \n",
      "193      198.764       396.961        74.904         0.00740   \n",
      "194      214.289       260.277        77.973         0.00567   \n",
      "\n",
      "     MDVP:Jitter(Abs)  MDVP:RAP  MDVP:PPQ  Jitter:DDP  MDVP:Shimmer  \\\n",
      "0             0.00007   0.00370   0.00554     0.01109       0.04374   \n",
      "1             0.00008   0.00465   0.00696     0.01394       0.06134   \n",
      "2             0.00009   0.00544   0.00781     0.01633       0.05233   \n",
      "3             0.00009   0.00502   0.00698     0.01505       0.05492   \n",
      "4             0.00011   0.00655   0.00908     0.01966       0.06425   \n",
      "..                ...       ...       ...         ...           ...   \n",
      "190           0.00003   0.00263   0.00259     0.00790       0.04087   \n",
      "191           0.00003   0.00331   0.00292     0.00994       0.02751   \n",
      "192           0.00008   0.00624   0.00564     0.01873       0.02308   \n",
      "193           0.00004   0.00370   0.00390     0.01109       0.02296   \n",
      "194           0.00003   0.00295   0.00317     0.00885       0.01884   \n",
      "\n",
      "     MDVP:Shimmer(dB)  ...  MDVP:APQ  Shimmer:DDA      NHR     HNR      RPDE  \\\n",
      "0               0.426  ...   0.02971      0.06545  0.02211  21.033  0.414783   \n",
      "1               0.626  ...   0.04368      0.09403  0.01929  19.085  0.458359   \n",
      "2               0.482  ...   0.03590      0.08270  0.01309  20.651  0.429895   \n",
      "3               0.517  ...   0.03772      0.08771  0.01353  20.644  0.434969   \n",
      "4               0.584  ...   0.04465      0.10470  0.01767  19.649  0.417356   \n",
      "..                ...  ...       ...          ...      ...     ...       ...   \n",
      "190             0.405  ...   0.02745      0.07008  0.02764  19.517  0.448439   \n",
      "191             0.263  ...   0.01879      0.04812  0.01810  19.147  0.431674   \n",
      "192             0.256  ...   0.01667      0.03804  0.10715  17.883  0.407567   \n",
      "193             0.241  ...   0.01588      0.03794  0.07223  19.020  0.451221   \n",
      "194             0.190  ...   0.01373      0.03078  0.04398  21.209  0.462803   \n",
      "\n",
      "          DFA   spread1   spread2        D2       PPE  \n",
      "0    0.815285 -4.813031  0.266482  2.301442  0.284654  \n",
      "1    0.819521 -4.075192  0.335590  2.486855  0.368674  \n",
      "2    0.825288 -4.443179  0.311173  2.342259  0.332634  \n",
      "3    0.819235 -4.117501  0.334147  2.405554  0.368975  \n",
      "4    0.823484 -3.747787  0.234513  2.332180  0.410335  \n",
      "..        ...       ...       ...       ...       ...  \n",
      "190  0.657899 -6.538586  0.121952  2.657476  0.133050  \n",
      "191  0.683244 -6.195325  0.129303  2.784312  0.168895  \n",
      "192  0.655683 -6.787197  0.158453  2.679772  0.131728  \n",
      "193  0.643956 -6.744577  0.207454  2.138608  0.123306  \n",
      "194  0.664357 -5.724056  0.190667  2.555477  0.148569  \n",
      "\n",
      "[195 rows x 22 columns]\n"
     ]
    }
   ],
   "source": [
    "print(x)"
   ]
  },
  {
   "cell_type": "code",
   "execution_count": 15,
   "metadata": {},
   "outputs": [
    {
     "name": "stdout",
     "output_type": "stream",
     "text": [
      "0      1\n",
      "1      1\n",
      "2      1\n",
      "3      1\n",
      "4      1\n",
      "      ..\n",
      "190    0\n",
      "191    0\n",
      "192    0\n",
      "193    0\n",
      "194    0\n",
      "Name: status, Length: 195, dtype: int64\n"
     ]
    }
   ],
   "source": [
    "print(y)"
   ]
  },
  {
   "cell_type": "code",
   "execution_count": 16,
   "metadata": {},
   "outputs": [],
   "source": [
    "x_train, x_test, y_train, y_test = train_test_split(x, y, test_size = 0.2, random_state = 5)"
   ]
  },
  {
   "cell_type": "code",
   "execution_count": 17,
   "metadata": {},
   "outputs": [
    {
     "name": "stdout",
     "output_type": "stream",
     "text": [
      "(195, 22) (156, 22) (39, 22)\n"
     ]
    }
   ],
   "source": [
    "print(x.shape, x_train.shape, x_test.shape)"
   ]
  },
  {
   "cell_type": "code",
   "execution_count": 18,
   "metadata": {},
   "outputs": [],
   "source": [
    "scaler = StandardScaler()"
   ]
  },
  {
   "cell_type": "code",
   "execution_count": 19,
   "metadata": {},
   "outputs": [
    {
     "data": {
      "text/plain": [
       "StandardScaler()"
      ]
     },
     "execution_count": 19,
     "metadata": {},
     "output_type": "execute_result"
    }
   ],
   "source": [
    "scaler.fit(x_train)"
   ]
  },
  {
   "cell_type": "code",
   "execution_count": 20,
   "metadata": {},
   "outputs": [],
   "source": [
    "x_train = scaler.transform(x_train)\n",
    "x_test = scaler.transform(x_test)"
   ]
  },
  {
   "cell_type": "code",
   "execution_count": 21,
   "metadata": {},
   "outputs": [
    {
     "name": "stdout",
     "output_type": "stream",
     "text": [
      "[[ 1.20771132e-01 -2.83526809e-01  6.66366786e-01 ... -3.60451119e-01\n",
      "   2.71884735e-01 -6.14338939e-01]\n",
      " [ 4.75621012e-01 -2.22724479e-03 -7.04803291e-01 ... -1.73169972e-01\n",
      "   4.73377677e-01  5.34369593e-01]\n",
      " [-7.59484810e-01 -5.22800298e-01 -5.84256113e-02 ...  1.32621591e+00\n",
      "   3.08825153e-01  1.83275864e+00]\n",
      " ...\n",
      " [ 5.80342604e-01  2.95092222e+00 -8.01085245e-01 ...  2.01381483e+00\n",
      "   1.20391948e+00  5.16504027e-01]\n",
      " [ 1.14348488e+00  8.24029706e-01 -8.90772223e-01 ... -7.76090347e-01\n",
      "  -1.53768392e-01 -1.05275587e+00]\n",
      " [-6.60900748e-01 -6.04207367e-01 -3.86981638e-01 ...  2.16683996e-01\n",
      "   7.09749145e-01  1.94339206e+00]]\n"
     ]
    }
   ],
   "source": [
    "print(x_train)"
   ]
  },
  {
   "cell_type": "code",
   "execution_count": 22,
   "metadata": {},
   "outputs": [
    {
     "name": "stdout",
     "output_type": "stream",
     "text": [
      "[[-1.32519238e+00 -1.07006032e+00 -6.66823721e-01 -3.91250615e-01\n",
      "  -1.13937924e-01 -2.89819778e-01 -3.14444354e-01 -2.88801733e-01\n",
      "  -4.05784386e-01 -4.16974665e-01 -3.00781520e-01 -3.81623433e-01\n",
      "  -4.98535701e-01 -3.00793796e-01 -4.03785808e-01  1.05901201e-01\n",
      "   7.52311278e-01  1.01714986e+00 -3.09788657e-01 -1.75351319e+00\n",
      "  -8.66599627e-01 -3.25985995e-01]\n",
      " [-8.10622895e-01 -6.57486841e-01 -3.50157897e-02 -5.94982180e-01\n",
      "  -4.03421899e-01 -6.00067667e-01 -5.16696296e-01 -5.99047428e-01\n",
      "  -7.28736878e-01 -7.31854347e-01 -7.92286184e-01 -7.11762914e-01\n",
      "  -6.12636849e-01 -7.92311628e-01 -4.72801874e-01  7.08100313e-01\n",
      "   9.42610515e-01  8.65966504e-01  5.05993299e-02  3.94021964e-01\n",
      "  -1.40599050e+00  6.29171530e-02]\n",
      " [-9.67705283e-01 -9.03113246e-01 -4.53796683e-01 -5.62055866e-01\n",
      "  -4.03421899e-01 -5.46111512e-01 -5.13084654e-01 -5.45091655e-01\n",
      "  -8.00154015e-01 -7.67405279e-01 -8.22881856e-01 -7.37783760e-01\n",
      "  -7.27873331e-01 -8.22579125e-01 -5.05176682e-01  1.08669710e+00\n",
      "  -1.17453227e+00  9.13083859e-01 -2.34340760e-01 -3.90089210e-01\n",
      "  -1.41207579e+00 -2.98894398e-01]\n",
      " [ 3.06741217e-02  4.06909993e-01 -8.48045207e-01 -6.42313756e-01\n",
      "  -6.92905874e-01 -5.86578628e-01 -6.10598984e-01 -5.87806642e-01\n",
      "  -6.70973018e-01 -6.25201552e-01 -8.02155756e-01 -6.50776557e-01\n",
      "  -4.36659954e-01 -8.02181464e-01 -4.55234148e-01  9.55179736e-01\n",
      "  -2.89311159e-01 -7.33511145e-01 -1.31945747e+00  6.58539234e-01\n",
      "  -3.56170194e-01 -1.10152526e+00]\n",
      " [-9.03620847e-01 -7.54386522e-01 -1.71826435e-01 -5.68229550e-01\n",
      "  -4.03421899e-01 -5.52856032e-01 -4.76968236e-01 -5.52960205e-01\n",
      "  -6.67297136e-01 -6.55673779e-01 -6.98525254e-01 -6.43458194e-01\n",
      "  -6.23990197e-01 -6.98219192e-01 -5.20987635e-01  9.94612154e-01\n",
      "  -1.36115228e+00  8.50127207e-01 -3.01977155e-01 -1.38194222e+00\n",
      "  -9.99217246e-01 -3.58085364e-01]\n",
      " [ 4.06669708e-01  1.81723918e-01 -9.54547032e-01 -3.43919039e-01\n",
      "  -4.03421899e-01 -2.79702999e-01 -4.01123758e-01 -2.79809105e-01\n",
      "  -5.40741769e-01 -4.98233938e-01 -6.83720897e-01 -5.23111782e-01\n",
      "  -3.16882133e-01 -6.84072427e-01 -3.50329729e-01  9.41047887e-01\n",
      "  -7.98083959e-01  7.95363295e-02 -4.55607344e-01  1.82631394e-02\n",
      "   5.87850650e-01 -6.62905308e-01]\n",
      " [ 1.16405519e+00  4.40236279e+00  1.42518645e+00  2.06793343e+00\n",
      "   1.04399798e+00  1.97633872e+00  2.23176313e+00  1.97509257e+00\n",
      "   2.19201395e+00  2.78768790e+00  1.90802860e+00  1.99440504e+00\n",
      "   2.28757591e+00  1.90840449e+00  1.35474353e+00 -1.54775306e+00\n",
      "  -7.09733545e-01  1.07708430e+00  7.34268828e-01  4.49050459e-01\n",
      "   1.45740193e+00  7.21788856e-01]\n",
      " [-1.04677392e+00 -7.30427291e-01 -3.02790472e-01  3.33128284e-01\n",
      "   7.54514002e-01  6.42674871e-02  6.10135953e-01  6.41589480e-02\n",
      "   3.77703610e-01  2.53414334e-01  4.44371133e-01  3.98188788e-01\n",
      "   2.11048551e-01  4.44707815e-01 -3.81951635e-01 -8.14597646e-02\n",
      "   4.10261252e-01  1.90830145e+00  1.15271500e+00  1.62086254e-01\n",
      "  -1.22108493e+00  1.45341988e+00]\n",
      " [ 1.30519439e+00  3.23448264e-01  1.93412205e+00 -2.70032708e-02\n",
      "  -4.03421899e-01  1.18223642e-01 -2.19013664e-02  1.19238799e-01\n",
      "  -6.48392600e-01 -6.55673779e-01 -6.21542596e-01 -6.13371591e-01\n",
      "  -6.37614214e-01 -6.21892460e-01 -4.16836119e-01  1.43054287e-01\n",
      "  -1.58813583e+00 -7.43051135e-02 -7.20878596e-01 -4.83083656e-01\n",
      "   3.50825345e-01 -7.87118364e-01]\n",
      " [ 1.63405567e+00  4.53694851e-01  2.08554921e+00 -7.32861118e-01\n",
      "  -9.82389849e-01 -6.10184446e-01 -7.26171522e-01 -6.09164135e-01\n",
      "  -7.10357468e-01 -7.06460824e-01 -7.05433954e-01 -5.72714019e-01\n",
      "  -6.98354626e-01 -7.05128077e-01 -5.39810199e-01  9.29195369e-01\n",
      "  -1.32548835e+00 -4.03234504e-01 -1.17697406e+00 -1.54196638e+00\n",
      "  -2.55937839e-01 -1.16118993e+00]\n",
      " [ 1.99343677e+00  6.42404796e-01  2.54701035e+00 -6.67008491e-01\n",
      "  -9.82389849e-01 -5.52856032e-01 -5.88929133e-01 -5.52960205e-01\n",
      "  -6.53118734e-01 -6.09965438e-01 -5.39625152e-01 -6.41018740e-01\n",
      "  -7.36388342e-01 -5.39972822e-01 -4.39423195e-01  2.18044260e-01\n",
      "  -1.91225087e+00 -1.13561080e+00 -1.49421632e+00 -1.50887031e+00\n",
      "   1.18867953e-01 -1.25358559e+00]\n",
      " [-8.96716127e-01 -6.50082978e-01 -1.15792537e-01  7.71459834e-01\n",
      "   1.33348195e+00  5.70106437e-01  1.27467805e+00  5.68870241e-01\n",
      "   1.31085252e+00  1.18281727e+00  1.32473692e+00  1.78298567e+00\n",
      "   7.61685931e-01  1.32443920e+00 -2.85580112e-01 -2.58791676e-01\n",
      "  -6.37699260e-01  1.86954069e+00  1.44850511e+00  1.30894995e+00\n",
      "   8.82542871e-02  1.83615354e+00]\n",
      " [ 9.92658052e-02  2.94776938e+00 -1.03763904e+00 -3.00703252e-01\n",
      "  -4.03421899e-01 -4.01104347e-01 -4.98638087e-01 -4.01209594e-01\n",
      "  -8.07505779e-01 -6.91224711e-01 -9.63029772e-01 -8.66261686e-01\n",
      "  -6.34775877e-01 -9.63059791e-01 -2.35135642e-01  1.04316189e+00\n",
      "  -4.82396795e-01 -1.14196473e+00 -3.33626823e-01  5.80656984e-01\n",
      "   7.26474885e-01 -4.06843472e-01]\n",
      " [-6.64928501e-01 -6.93065532e-01 -8.28878224e-02 -3.58324301e-01\n",
      "  -1.13937924e-01 -6.81001899e-01 -6.35880476e-01 -6.81105166e-01\n",
      "  -5.05558327e-01 -5.03312643e-01 -4.33033779e-01 -6.93873582e-01\n",
      "  -4.63340322e-01 -4.33049598e-01 -5.06180552e-01  7.40922671e-01\n",
      "   7.39606260e-02  7.97675468e-01 -9.21533544e-01  8.04097319e-01\n",
      "   1.59606592e-01 -1.12995903e+00]\n",
      " [ 3.90534719e-01  8.95931017e-01 -8.60019061e-01 -1.05203266e-01\n",
      "  -4.03421899e-01 -3.40403673e-01 -2.74716294e-01 -3.40509349e-01\n",
      "   1.45597917e-01 -1.57570064e-02  1.29531800e-01  1.23343604e-01\n",
      "   2.23537234e-01  1.29531053e-01 -1.48489110e-03 -7.38362808e-01\n",
      "   1.73821556e+00 -5.73315778e-01  8.22420092e-01  2.06996807e+00\n",
      "   1.60278158e+00  8.01349275e-01]\n",
      " [-1.81162845e-03 -3.85622184e-01  2.87740401e-01 -9.03666370e-01\n",
      "  -9.82389849e-01 -8.66476180e-01 -8.85083762e-01 -8.65454057e-01\n",
      "  -1.03225971e+00 -9.65474756e-01 -1.09824290e+00 -1.00043167e+00\n",
      "  -8.85117202e-01 -1.09860554e+00 -5.64154047e-01  1.51110844e+00\n",
      "  -2.31851560e+00 -4.56323457e-01 -1.31084141e+00 -9.56886291e-01\n",
      "  -8.34379856e-01 -1.27432724e+00]\n",
      " [ 6.69840246e-01  5.01784081e-02 -8.68344632e-01  4.52486171e-01\n",
      "   1.75546052e-01  5.83595475e-01  3.75379234e-01  5.82359184e-01\n",
      "  -2.58749106e-01 -2.69692234e-01 -2.07020590e-01 -1.88906545e-01\n",
      "  -2.83389756e-01 -2.07359349e-01 -1.70135057e-01 -6.82747144e-01\n",
      "   8.82918797e-01  2.97772705e-01  2.24949904e-01 -9.84574036e-01\n",
      "  -5.39125101e-01  1.05799023e-01]\n",
      " [-4.76051943e-03 -2.36919077e-01 -8.93110867e-01 -2.92471674e-01\n",
      "  -4.03421899e-01 -3.40403673e-01 -2.81939578e-01 -3.40509349e-01\n",
      "   5.99306783e-01  4.36247698e-01  4.33514604e-01  6.33189551e-01\n",
      "   1.18913948e+00  4.33193006e-01 -1.61100227e-01 -5.21142614e-01\n",
      "   1.26615650e+00 -3.20360392e-01  4.62889195e-01  1.53997699e-01\n",
      "   5.00583796e-01  6.04399454e-01]\n",
      " [-7.10456501e-01 -6.83170098e-01  2.75429242e-02 -3.93308509e-01\n",
      "  -4.03421899e-01 -6.47279302e-01 -6.43103760e-01 -6.48506886e-01\n",
      "  -4.26264301e-01 -4.42368188e-01 -3.36311978e-01 -6.41018740e-01\n",
      "  -4.23035937e-01 -3.35996211e-01 -5.04925715e-01  7.64855641e-01\n",
      "   5.21648509e-01  1.08118067e+00 -8.85885965e-01  3.55924394e-01\n",
      "  -1.44556526e+00 -1.15738899e+00]\n",
      " [-7.84778143e-01 -6.29146695e-01 -4.22529020e-01  1.27338824e-01\n",
      "   4.65030027e-01  1.85668835e-01 -4.71828592e-02  1.85559437e-01\n",
      "  -2.42470200e-01 -2.18905188e-01 -2.38603219e-01 -3.36086953e-01\n",
      "  -2.12431331e-01 -2.38942824e-01  4.23654070e-01 -5.91223259e-02\n",
      "   6.56386570e-01 -8.38796952e-01  7.59429494e-01  2.59077116e-01\n",
      "  -9.75312868e-01 -4.24043591e-01]\n",
      " [ 5.32297258e-01  4.06886376e-01  2.17323845e-01 -2.10155890e-01\n",
      "  -4.03421899e-01 -1.54929391e-01 -1.19415696e-01 -1.53912301e-01\n",
      "   1.84595591e+00  1.50277565e+00  2.06199391e+00  1.90821099e+00\n",
      "   1.27883093e+00  2.06171594e+00  5.85528113e-01 -1.79095762e+00\n",
      "   1.00966068e+00  4.42219807e-01  1.60501330e-01  8.94973905e-01\n",
      "   2.07145770e+00  1.66817150e-01]\n",
      " [ 6.14530559e-01  3.89752397e-01  6.67933677e-01  1.78786189e-01\n",
      "  -1.13937924e-01  1.95785614e-01  2.67029979e-01  1.94552066e-01\n",
      "   6.91728960e-01  8.01914425e-01  7.05914780e-01  7.77117354e-01\n",
      "   5.81735364e-01  7.06258468e-01  1.18759917e+00 -2.25958797e+00\n",
      "   8.92681003e-01  5.27588153e-01  1.20712824e+00  1.80412264e+00\n",
      "   3.52184931e+00  1.42009113e+00]\n",
      " [ 3.52414909e-01  4.63566668e-01 -9.52161616e-01  1.97307240e-01\n",
      "  -1.13937924e-01 -1.65046170e-01  1.51457441e-01 -1.64029008e-01\n",
      "   1.73954721e-01  3.24516198e-01 -1.38920546e-01  6.56098529e-02\n",
      "   5.67543679e-01 -1.39257481e-01  1.07435008e-01 -3.19877732e-01\n",
      "   1.28658355e+00 -2.02324862e+00  2.54192270e+00  2.50762348e+00\n",
      "   1.72124268e+00  2.53332794e+00]\n",
      " [ 3.99836912e-01  3.03857593e+00 -8.71969530e-01 -1.38129579e-01\n",
      "  -4.03421899e-01 -2.99936557e-01 -3.03609429e-01 -3.01166598e-01\n",
      "  -6.67297136e-01 -5.54099688e-01 -8.13999242e-01 -6.84115765e-01\n",
      "  -4.41768961e-01 -8.14354262e-01 -1.72895700e-01  8.91358483e-01\n",
      "  -1.29780040e-01 -7.37789576e-01  1.00582909e+00  1.76323716e+00\n",
      "   1.63558193e+00  8.63980265e-01]\n",
      " [-9.09326831e-01 -7.22586517e-01 -1.52064897e-01 -4.96203239e-01\n",
      "  -4.03421899e-01 -5.12388916e-01 -4.08347041e-01 -5.13617454e-01\n",
      "   1.58917940e-02 -8.68588700e-02 -6.68726740e-02 -2.55412949e-04\n",
      "   1.92883194e-01 -6.65496889e-02 -1.66621512e-01 -6.78872283e-01\n",
      "   1.22489033e+00 -3.73194459e-01 -1.63244669e-01  9.95315746e-02\n",
      "   1.97024501e-01 -2.39026705e-01]\n",
      " [-1.19102983e+00  1.54434719e-01 -8.96852697e-01  2.23861996e-02\n",
      "   4.65030027e-01 -5.71338609e-02  1.08117739e-01 -5.72415412e-02\n",
      "   4.05010162e-01  4.92113448e-01  1.48283986e-01  3.51839156e-01\n",
      "   7.66227270e-01  1.48612735e-01  9.94040476e-02  6.53291181e-02\n",
      "   2.23503881e-01  3.89622419e-01  1.08180122e-01  1.44796370e-01\n",
      "   1.28419218e+00  1.50417824e-01]\n",
      " [-3.56134065e-01  4.64829621e+00 -1.17306988e+00  4.91605956e+00\n",
      "   5.09677363e+00  5.12940150e+00  4.63350494e+00  5.13038121e+00\n",
      "   3.37302233e+00  3.28032224e+00  3.91747337e+00  2.59613710e+00\n",
      "   2.03950525e+00  3.91790310e+00  5.88244836e+00 -2.57345177e+00\n",
      "   9.45769741e-01 -1.36781125e+00  2.23003680e+00  5.49080512e-01\n",
      "   8.62448505e-01  2.69107277e+00]\n",
      " [-9.47590490e-01 -7.81073493e-01 -5.89250916e-01  5.94283024e-02\n",
      "   4.65030027e-01  1.11479122e-01 -1.82897246e-02  1.10246171e-01\n",
      "   3.47771428e-01  4.31168993e-01  2.78562331e-01  1.03827970e-01\n",
      "   3.75104430e-01  2.78565576e-01  5.42298960e-02 -6.43998526e-01\n",
      "   1.81690188e+00  5.51401716e-02  1.46896637e-01  2.15355846e-01\n",
      "   9.67595904e-02  1.61764263e-01]\n",
      " [-1.08537322e+00 -6.88046964e-01 -3.14390144e-01  2.85796708e-01\n",
      "   7.54514002e-01  5.41507081e-02  5.09009982e-01  5.29181619e-02\n",
      "  -1.45321889e-01 -1.47803325e-01 -9.74683459e-02 -1.65325153e-01\n",
      "  -2.06186989e-01 -9.71461805e-02 -3.65136812e-01 -1.71265385e-01\n",
      "   3.53630648e-01  1.86584485e+00  9.58146311e-01 -2.29658235e-01\n",
      "  -1.04756318e+00  1.24655603e+00]\n",
      " [ 1.17728924e+00  2.19664288e-01  1.86723684e+00 -9.13955843e-01\n",
      "  -1.01133825e+00 -8.05775506e-01 -8.63413911e-01 -8.04753812e-01\n",
      "  -1.07006878e+00 -1.01118310e+00 -1.09922986e+00 -9.77663431e-01\n",
      "  -9.67428975e-01 -1.09959252e+00 -6.08826264e-01  2.56826191e+00\n",
      "  -1.56879783e+00  4.61554672e-01 -2.09734422e+00 -7.32668210e-01\n",
      "  -2.57665122e+00 -1.82308435e+00]\n",
      " [-5.93196129e-01 -6.26513423e-01  5.34784808e-02 -2.71892728e-01\n",
      "  -1.13937924e-01 -5.66345070e-01 -5.85317491e-01 -5.66449148e-01\n",
      "  -2.61374736e-01 -2.84928347e-01 -1.83333619e-01 -4.82454211e-01\n",
      "  -2.74307077e-01 -1.83342748e-01 -5.03670877e-01  8.31867957e-01\n",
      "  -7.80806327e-01  1.25925442e+00 -1.05761734e+00  5.39807391e-01\n",
      "  -4.05066871e-01 -6.61912777e-01]\n",
      " [ 8.06855790e-01  1.11003446e-01  1.32595780e+00 -6.29966388e-01\n",
      "  -6.92905874e-01 -5.56228291e-01 -5.88929133e-01 -5.56332441e-01\n",
      "  -6.99854948e-01 -6.75988597e-01 -7.42938326e-01 -6.58094920e-01\n",
      "  -6.04121838e-01 -7.42633454e-01 -5.58632762e-01  1.03267697e+00\n",
      "  -1.01225400e+00  7.60589667e-01 -2.92536261e-01  5.04222537e-01\n",
      "   2.58278024e-02 -5.13033059e-01]\n",
      " [-4.24845622e-01 -1.92814725e-01 -1.18258816e+00  7.17954574e-01\n",
      "   7.54514002e-01  6.78018746e-01  4.80116847e-01  6.76781787e-01\n",
      "   1.04093775e+00  1.01014131e+00  1.15201941e+00  5.31545622e-01\n",
      "   7.41249904e-01  1.15204606e+00  2.18362647e-01 -7.31524817e-01\n",
      "   4.25154748e-01  3.03762508e-01  4.43512506e-01  1.20059687e-03\n",
      "   7.30484722e-01  4.15096637e-01]\n",
      " [ 1.44352854e+00  7.95335308e-01 -8.96735764e-01 -1.13434844e-01\n",
      "  -4.03421899e-01 -1.27951314e-01 -1.01357487e-01 -1.28058493e-01\n",
      "  -5.83802102e-01 -4.77919120e-01 -5.48507766e-01 -5.29616994e-01\n",
      "  -6.00148166e-01 -5.48526679e-01  4.78615954e-01 -1.30009504e-01\n",
      "  -3.64612595e-01 -9.50181798e-01 -3.20997344e-02 -4.07833776e-01\n",
      "   4.94997697e-01 -6.49754266e-01]\n",
      " [ 2.12831857e+00  7.33423898e-01  2.60977954e+00 -8.17234797e-01\n",
      "  -1.01133825e+00 -7.28213534e-01 -7.44229731e-01 -7.29440546e-01\n",
      "  -7.88601243e-01 -7.62326574e-01 -7.25173098e-01 -7.58925697e-01\n",
      "  -8.03940763e-01 -7.24867749e-01 -5.05678617e-01  7.41378538e-01\n",
      "  -6.73843949e-01 -1.41314441e+00 -1.20416041e+00 -1.46776944e+00\n",
      "  -1.95989277e-02 -1.16703233e+00]\n",
      " [ 2.29616376e-01  9.34915976e-02 -9.24659168e-01  2.46696711e-01\n",
      "   1.75546052e-01  1.58690758e-01  1.62292367e-01  1.58581551e-01\n",
      "  -7.01955452e-01 -6.09965438e-01 -8.32751428e-01 -7.02818248e-01\n",
      "  -5.29757408e-01 -8.32777956e-01 -1.78918920e-01  4.67630947e-01\n",
      "  -1.00102991e+00  2.90053324e-01  1.21447510e-01 -4.62059903e-02\n",
      "   8.65864191e-01  1.10344366e-01]\n",
      " [-7.61019193e-01 -5.96968821e-01 -5.03352539e-01  2.15828292e-01\n",
      "   4.65030027e-01  2.76719846e-01 -2.19013664e-02  2.77733883e-01\n",
      "  -3.69025566e-01 -3.10321870e-01 -3.71842435e-01 -4.25533611e-01\n",
      "  -3.74216540e-01 -3.71856615e-01  1.75698170e-01  2.67505731e-01\n",
      "   1.09604884e+00 -1.68982233e+00  2.34202791e-01  6.91635992e-02\n",
      "   8.86127703e-01  1.62057511e-01]\n",
      " [-1.06012784e+00 -7.86033019e-01 -2.77837146e-01  5.18338798e-01\n",
      "   1.04399798e+00  2.19391432e-01  7.00426998e-01  2.18157717e-01\n",
      "   1.11989853e-01  1.16289312e-01  2.04540544e-01  1.46111844e-01\n",
      "   1.35002953e-02  2.04870801e-01 -3.28997491e-01 -2.30755911e-01\n",
      "   5.75139509e-01  1.73496129e+00  1.24940030e+00 -3.61910197e-02\n",
      "  -9.72393663e-01  1.56387284e+00]\n",
      " [ 7.69215474e-01  5.66848333e-02  1.43281042e+00 -6.67008491e-01\n",
      "  -6.92905874e-01 -5.66345070e-01 -6.14210625e-01 -5.65325070e-01\n",
      "  -7.88076117e-01 -7.57247870e-01 -7.97220970e-01 -7.08510308e-01\n",
      "  -6.79621602e-01 -7.97575541e-01 -5.67165657e-01  1.14937869e+00\n",
      "  -1.70211326e+00  8.93475903e-01 -8.83036371e-01 -2.83059447e-01\n",
      "   2.84584882e-03 -8.52941245e-01]]\n"
     ]
    }
   ],
   "source": [
    "print(x_test)"
   ]
  },
  {
   "cell_type": "markdown",
   "metadata": {},
   "source": [
    "<b>SVM</b>"
   ]
  },
  {
   "cell_type": "code",
   "execution_count": 23,
   "metadata": {},
   "outputs": [],
   "source": [
    "svm_model = svm.SVC(kernel = \"linear\")"
   ]
  },
  {
   "cell_type": "code",
   "execution_count": 24,
   "metadata": {},
   "outputs": [
    {
     "data": {
      "text/plain": [
       "SVC(kernel='linear')"
      ]
     },
     "execution_count": 24,
     "metadata": {},
     "output_type": "execute_result"
    }
   ],
   "source": [
    "svm_model.fit(x_train,y_train)"
   ]
  },
  {
   "cell_type": "code",
   "execution_count": 25,
   "metadata": {},
   "outputs": [],
   "source": [
    "x_train_prediction = svm_model.predict(x_train)\n",
    "training_data_accuracy = accuracy_score(y_train, x_train_prediction)"
   ]
  },
  {
   "cell_type": "code",
   "execution_count": 26,
   "metadata": {},
   "outputs": [
    {
     "name": "stdout",
     "output_type": "stream",
     "text": [
      "Accuracy on Training Data : 0.9102564102564102\n"
     ]
    }
   ],
   "source": [
    "print(\"Accuracy on Training Data :\", training_data_accuracy)"
   ]
  },
  {
   "cell_type": "code",
   "execution_count": 27,
   "metadata": {},
   "outputs": [],
   "source": [
    "x_test_prediction = svm_model.predict(x_test)\n",
    "test_data_accuracy = accuracy_score(y_test, x_test_prediction)"
   ]
  },
  {
   "cell_type": "code",
   "execution_count": 28,
   "metadata": {},
   "outputs": [
    {
     "name": "stdout",
     "output_type": "stream",
     "text": [
      "Accuracy on Test Data : 0.8461538461538461\n"
     ]
    }
   ],
   "source": [
    "print(\"Accuracy on Test Data :\", test_data_accuracy)"
   ]
  },
  {
   "cell_type": "code",
   "execution_count": 29,
   "metadata": {},
   "outputs": [
    {
     "name": "stdout",
     "output_type": "stream",
     "text": [
      "Classification Report\n",
      "              precision    recall  f1-score   support\n",
      "\n",
      "           0       1.00      0.40      0.57        10\n",
      "           1       0.83      1.00      0.91        29\n",
      "\n",
      "    accuracy                           0.85        39\n",
      "   macro avg       0.91      0.70      0.74        39\n",
      "weighted avg       0.87      0.85      0.82        39\n",
      "\n",
      "Confusion Matrix\n",
      "[[ 4  6]\n",
      " [ 0 29]]\n"
     ]
    }
   ],
   "source": [
    "print(\"Classification Report\")\n",
    "print(classification_report(y_test,x_test_prediction))\n",
    "print(\"Confusion Matrix\")\n",
    "print(confusion_matrix(y_test, x_test_prediction))"
   ]
  },
  {
   "cell_type": "code",
   "execution_count": 30,
   "metadata": {},
   "outputs": [
    {
     "data": {
      "text/plain": [
       "<AxesSubplot: >"
      ]
     },
     "execution_count": 30,
     "metadata": {},
     "output_type": "execute_result"
    },
    {
     "data": {
      "image/png": "[encoded data removed]",
      "text/plain": [
       "<Figure size 360x360 with 2 Axes>"
      ]
     },
     "metadata": {
      "needs_background": "light"
     },
     "output_type": "display_data"
    }
   ],
   "source": [
    "plt.figure(figsize = (5,5))\n",
    "\n",
    "sns.heatmap(confusion_matrix(x_train_prediction, y_train), annot = True, fmt = \"g\")"
   ]
  },
  {
   "cell_type": "markdown",
   "metadata": {},
   "source": [
    "<b>LogisticRegression</b>"
   ]
  },
  {
   "cell_type": "code",
   "execution_count": 31,
   "metadata": {},
   "outputs": [],
   "source": [
    "logistic_model = LogisticRegression()"
   ]
  },
  {
   "cell_type": "code",
   "execution_count": 32,
   "metadata": {},
   "outputs": [
    {
     "data": {
      "text/plain": [
       "LogisticRegression()"
      ]
     },
     "execution_count": 32,
     "metadata": {},
     "output_type": "execute_result"
    }
   ],
   "source": [
    "logistic_model.fit(x_train, y_train)"
   ]
  },
  {
   "cell_type": "code",
   "execution_count": 33,
   "metadata": {},
   "outputs": [],
   "source": [
    "x_train_prediction = logistic_model.predict(x_train)\n",
    "training_data_accuracy = accuracy_score(y_train, x_train_prediction)"
   ]
  },
  {
   "cell_type": "code",
   "execution_count": 34,
   "metadata": {},
   "outputs": [
    {
     "name": "stdout",
     "output_type": "stream",
     "text": [
      "Accuracy on Training Data : 0.8717948717948718\n"
     ]
    }
   ],
   "source": [
    "print(\"Accuracy on Training Data :\", training_data_accuracy)"
   ]
  },
  {
   "cell_type": "code",
   "execution_count": 35,
   "metadata": {},
   "outputs": [],
   "source": [
    "x_test_prediction = logistic_model.predict(x_test)\n",
    "test_data_accuracy = accuracy_score(y_test, x_test_prediction)"
   ]
  },
  {
   "cell_type": "code",
   "execution_count": 36,
   "metadata": {},
   "outputs": [
    {
     "name": "stdout",
     "output_type": "stream",
     "text": [
      "Accuracy on Test Data : 0.8205128205128205\n"
     ]
    }
   ],
   "source": [
    "print(\"Accuracy on Test Data :\", test_data_accuracy)"
   ]
  },
  {
   "cell_type": "code",
   "execution_count": 37,
   "metadata": {},
   "outputs": [
    {
     "name": "stdout",
     "output_type": "stream",
     "text": [
      "Mean Absolute Error:  0.1794871794871795\n"
     ]
    }
   ],
   "source": [
    "print(\"Mean Absolute Error: \", (mean_absolute_error(y_test, x_test_prediction)))"
   ]
  },
  {
   "cell_type": "code",
   "execution_count": 38,
   "metadata": {},
   "outputs": [
    {
     "name": "stdout",
     "output_type": "stream",
     "text": [
      "Mean Squared Error:  0.1794871794871795\n"
     ]
    }
   ],
   "source": [
    "print(\"Mean Squared Error: \", (mean_squared_error(y_test, x_test_prediction)))"
   ]
  },
  {
   "cell_type": "code",
   "execution_count": 39,
   "metadata": {},
   "outputs": [
    {
     "name": "stdout",
     "output_type": "stream",
     "text": [
      "Median Absolute Error:  0.0\n"
     ]
    }
   ],
   "source": [
    "print(\"Median Absolute Error: \", (median_absolute_error(y_test, x_test_prediction)))"
   ]
  },
  {
   "cell_type": "code",
   "execution_count": 40,
   "metadata": {},
   "outputs": [
    {
     "name": "stdout",
     "output_type": "stream",
     "text": [
      "Classification Report\n",
      "              precision    recall  f1-score   support\n",
      "\n",
      "           0       0.80      0.40      0.53        10\n",
      "           1       0.82      0.97      0.89        29\n",
      "\n",
      "    accuracy                           0.82        39\n",
      "   macro avg       0.81      0.68      0.71        39\n",
      "weighted avg       0.82      0.82      0.80        39\n",
      "\n",
      "Confusion Matrix\n",
      "[[ 4  6]\n",
      " [ 1 28]]\n"
     ]
    }
   ],
   "source": [
    "print(\"Classification Report\")\n",
    "print(classification_report(y_test,x_test_prediction))\n",
    "print(\"Confusion Matrix\")\n",
    "print(confusion_matrix(y_test, x_test_prediction))"
   ]
  },
  {
   "cell_type": "code",
   "execution_count": 41,
   "metadata": {},
   "outputs": [
    {
     "data": {
      "text/plain": [
       "<AxesSubplot: >"
      ]
     },
     "execution_count": 41,
     "metadata": {},
     "output_type": "execute_result"
    },
    {
     "data": {
      "image/png": "[encoded data removed]",
      "text/plain": [
       "<Figure size 360x360 with 2 Axes>"
      ]
     },
     "metadata": {
      "needs_background": "light"
     },
     "output_type": "display_data"
    }
   ],
   "source": [
    "plt.figure(figsize = (5,5))\n",
    "\n",
    "sns.heatmap(confusion_matrix(x_train_prediction, y_train), annot = True, fmt = \"g\")"
   ]
  },
  {
   "cell_type": "code",
   "execution_count": null,
   "metadata": {},
   "outputs": [],
   "source": []
  },
  {
   "cell_type": "code",
   "execution_count": null,
   "metadata": {},
   "outputs": [],
   "source": []
  },
  {
   "cell_type": "markdown",
   "metadata": {},
   "source": [
    "<b>XGB Regressor</b>"
   ]
  },
  {
   "cell_type": "code",
   "execution_count": 42,
   "metadata": {},
   "outputs": [],
   "source": [
    "regressor_model = XGBRegressor()"
   ]
  },
  {
   "cell_type": "code",
   "execution_count": 43,
   "metadata": {},
   "outputs": [
    {
     "data": {
      "text/plain": [
       "XGBRegressor(base_score=0.5, booster='gbtree', callbacks=None,\n",
       "             colsample_bylevel=1, colsample_bynode=1, colsample_bytree=1,\n",
       "             early_stopping_rounds=None, enable_categorical=False,\n",
       "             eval_metric=None, gamma=0, gpu_id=-1, grow_policy='depthwise',\n",
       "             importance_type=None, interaction_constraints='',\n",
       "             learning_rate=0.300000012, max_bin=256, max_cat_to_onehot=4,\n",
       "             max_delta_step=0, max_depth=6, max_leaves=0, min_child_weight=1,\n",
       "             missing=nan, monotone_constraints='()', n_estimators=100, n_jobs=0,\n",
       "             num_parallel_tree=1, predictor='auto', random_state=0, reg_alpha=0,\n",
       "             reg_lambda=1, ...)"
      ]
     },
     "execution_count": 43,
     "metadata": {},
     "output_type": "execute_result"
    }
   ],
   "source": [
    "regressor_model.fit(x_train, y_train)"
   ]
  },
  {
   "cell_type": "code",
   "execution_count": 44,
   "metadata": {},
   "outputs": [
    {
     "name": "stdout",
     "output_type": "stream",
     "text": [
      "R squared error :  0.9999982294346353\n",
      "Mean Absolute Error :  0.00040669404580302606\n"
     ]
    }
   ],
   "source": [
    "training_data_prediction = regressor_model.predict(x_train)\n",
    "\n",
    "score_1 = metrics.r2_score(y_train, training_data_prediction)\n",
    "print(\"R squared error : \", score_1)\n",
    "\n",
    "score_2 = metrics.mean_absolute_error(y_train, training_data_prediction)\n",
    "print(\"Mean Absolute Error : \", score_2)"
   ]
  },
  {
   "cell_type": "code",
   "execution_count": 45,
   "metadata": {},
   "outputs": [
    {
     "name": "stdout",
     "output_type": "stream",
     "text": [
      "R squared error :  0.64828938011705\n",
      "Mean Absolute Error :  0.09963763826929678\n"
     ]
    }
   ],
   "source": [
    "test_data_prediction = regressor_model.predict(x_test)\n",
    "\n",
    "score_1 = metrics.r2_score(y_test, test_data_prediction)\n",
    "print(\"R squared error : \", score_1)\n",
    "\n",
    "score_2 = metrics.mean_absolute_error(y_test, test_data_prediction)\n",
    "print(\"Mean Absolute Error : \", score_2)"
   ]
  },
  {
   "cell_type": "code",
   "execution_count": null,
   "metadata": {},
   "outputs": [],
   "source": []
  },
  {
   "cell_type": "code",
   "execution_count": 46,
   "metadata": {},
   "outputs": [
    {
     "name": "stdout",
     "output_type": "stream",
     "text": [
      "[0]\n",
      "The Person does not have Parkinsons Disease\n"
     ]
    }
   ],
   "source": [
    "input_data = (197.07600,206.89600,192.05500,0.00289,0.00001,0.00166,0.00168,0.00498,0.01098,0.09700,0.00563,0.00680,0.00802,0.01689,0.00339,26.77500,0.422229,0.741367,-7.348300,0.177551,1.743867,0.085569)\n",
    "\n",
    "# changing input data to a numpy array\n",
    "input_data_as_numpy_array = np.asarray(input_data)\n",
    "\n",
    "# reshape the numpy array\n",
    "input_data_reshaped = input_data_as_numpy_array.reshape(1,-1)\n",
    "\n",
    "# standardize the data\n",
    "std_data = scaler.transform(input_data_reshaped)\n",
    "\n",
    "prediction = svm_model.predict(std_data)\n",
    "print(prediction)\n",
    "\n",
    "\n",
    "if (prediction[0] == 0):\n",
    "  print(\"The Person does not have Parkinsons Disease\")\n",
    "\n",
    "else:\n",
    "  print(\"The Person has Parkinsons\")"
   ]
  },
  {
   "cell_type": "code",
   "execution_count": null,
   "metadata": {},
   "outputs": [],
   "source": []
  },
  {
   "cell_type": "code",
   "execution_count": null,
   "metadata": {},
   "outputs": [],
   "source": []
  },
  {
   "cell_type": "code",
   "execution_count": 47,
   "metadata": {},
   "outputs": [],
   "source": [
    "import pickle"
   ]
  },
  {
   "cell_type": "code",
   "execution_count": 48,
   "metadata": {},
   "outputs": [],
   "source": [
    "filename = \"parkinsons_disease_model.sav\"\n",
    "pickle.dump(svm_model, open(filename, \"wb\"))"
   ]
  },
  {
   "cell_type": "code",
   "execution_count": 49,
   "metadata": {},
   "outputs": [],
   "source": [
    "#loading the saved model\n",
    "loaded_model = pickle.load(open(\"heart_disease_model.sav\", \"rb\"))"
   ]
  },
  {
   "cell_type": "code",
   "execution_count": 50,
   "metadata": {},
   "outputs": [
    {
     "name": "stdout",
     "output_type": "stream",
     "text": [
      "[0]\n",
      "The Person does not have Parkinsons Disease\n"
     ]
    }
   ],
   "source": [
    "input_data = (197.07600,206.89600,192.05500,0.00289,0.00001,0.00166,0.00168,0.00498,0.01098,0.09700,0.00563,0.00680,0.00802,0.01689,0.00339,26.77500,0.422229,0.741367,-7.348300,0.177551,1.743867,0.085569)\n",
    "\n",
    "# changing input data to a numpy array\n",
    "input_data_as_numpy_array = np.asarray(input_data)\n",
    "\n",
    "# reshape the numpy array\n",
    "input_data_reshaped = input_data_as_numpy_array.reshape(1,-1)\n",
    "\n",
    "# standardize the data\n",
    "std_data = scaler.transform(input_data_reshaped)\n",
    "\n",
    "prediction = svm_model.predict(std_data)\n",
    "print(prediction)\n",
    "\n",
    "\n",
    "if (prediction[0] == 0):\n",
    "  print(\"The Person does not have Parkinsons Disease\")\n",
    "\n",
    "else:\n",
    "  print(\"The Person has Parkinsons\")"
   ]
  },
  {
   "cell_type": "code",
   "execution_count": null,
   "metadata": {},
   "outputs": [],
   "source": []
  },
  {
   "cell_type": "code",
   "execution_count": null,
   "metadata": {},
   "outputs": [],
   "source": []
  }
 ],
 "metadata": {
  "kernelspec": {
   "display_name": "Python 3",
   "language": "python",
   "name": "python3"
  },
  "language_info": {
   "codemirror_mode": {
    "name": "ipython",
    "version": 3
   },
   "file_extension": ".py",
   "mimetype": "text/x-python",
   "name": "python",
   "nbconvert_exporter": "python",
   "pygments_lexer": "ipython3",
   "version": "3.8.3"
  }
 },
 "nbformat": 4,
 "nbformat_minor": 4
}
